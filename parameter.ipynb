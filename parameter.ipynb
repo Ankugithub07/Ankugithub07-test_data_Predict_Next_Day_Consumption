{
 "cells": [
  {
   "cell_type": "code",
   "execution_count": 1,
   "metadata": {},
   "outputs": [
    {
     "name": "stdout",
     "output_type": "stream",
     "text": [
      "Requirement already satisfied: pandas in c:\\python312\\lib\\site-packages (2.2.2)\n",
      "Collecting statsmodels\n",
      "  Downloading statsmodels-0.14.4-cp312-cp312-win_amd64.whl.metadata (9.5 kB)\n",
      "Requirement already satisfied: matplotlib in c:\\python312\\lib\\site-packages (3.9.1)\n",
      "Requirement already satisfied: numpy>=1.26.0 in c:\\python312\\lib\\site-packages (from pandas) (2.0.1)\n",
      "Requirement already satisfied: python-dateutil>=2.8.2 in c:\\python312\\lib\\site-packages (from pandas) (2.9.0.post0)\n",
      "Requirement already satisfied: pytz>=2020.1 in c:\\python312\\lib\\site-packages (from pandas) (2024.1)\n",
      "Requirement already satisfied: tzdata>=2022.7 in c:\\python312\\lib\\site-packages (from pandas) (2024.1)\n",
      "Collecting scipy!=1.9.2,>=1.8 (from statsmodels)\n",
      "  Downloading scipy-1.14.1-cp312-cp312-win_amd64.whl.metadata (60 kB)\n",
      "Collecting patsy>=0.5.6 (from statsmodels)\n",
      "  Downloading patsy-0.5.6-py2.py3-none-any.whl.metadata (3.5 kB)\n",
      "Requirement already satisfied: packaging>=21.3 in c:\\python312\\lib\\site-packages (from statsmodels) (24.1)\n",
      "Requirement already satisfied: contourpy>=1.0.1 in c:\\python312\\lib\\site-packages (from matplotlib) (1.2.1)\n",
      "Requirement already satisfied: cycler>=0.10 in c:\\python312\\lib\\site-packages (from matplotlib) (0.12.1)\n",
      "Requirement already satisfied: fonttools>=4.22.0 in c:\\python312\\lib\\site-packages (from matplotlib) (4.53.1)\n",
      "Requirement already satisfied: kiwisolver>=1.3.1 in c:\\python312\\lib\\site-packages (from matplotlib) (1.4.5)\n",
      "Requirement already satisfied: pillow>=8 in c:\\python312\\lib\\site-packages (from matplotlib) (10.4.0)\n",
      "Requirement already satisfied: pyparsing>=2.3.1 in c:\\python312\\lib\\site-packages (from matplotlib) (3.1.2)\n",
      "Requirement already satisfied: six in c:\\python312\\lib\\site-packages (from patsy>=0.5.6->statsmodels) (1.16.0)\n",
      "Downloading statsmodels-0.14.4-cp312-cp312-win_amd64.whl (9.8 MB)\n",
      "   ---------------------------------------- 0.0/9.8 MB ? eta -:--:--\n",
      "   - -------------------------------------- 0.3/9.8 MB ? eta -:--:--\n",
      "   -- ------------------------------------- 0.5/9.8 MB 2.1 MB/s eta 0:00:05\n",
      "   ---- ----------------------------------- 1.0/9.8 MB 1.9 MB/s eta 0:00:05\n",
      "   ------ --------------------------------- 1.6/9.8 MB 2.2 MB/s eta 0:00:04\n",
      "   --------- ------------------------------ 2.4/9.8 MB 2.4 MB/s eta 0:00:04\n",
      "   ----------- ---------------------------- 2.9/9.8 MB 2.5 MB/s eta 0:00:03\n",
      "   ------------- -------------------------- 3.4/9.8 MB 2.6 MB/s eta 0:00:03\n",
      "   ------------------ --------------------- 4.5/9.8 MB 2.8 MB/s eta 0:00:02\n",
      "   --------------------- ------------------ 5.2/9.8 MB 2.9 MB/s eta 0:00:02\n",
      "   ------------------------ --------------- 6.0/9.8 MB 3.1 MB/s eta 0:00:02\n",
      "   ---------------------------- ----------- 7.1/9.8 MB 3.3 MB/s eta 0:00:01\n",
      "   -------------------------------- ------- 7.9/9.8 MB 3.3 MB/s eta 0:00:01\n",
      "   ------------------------------------- -- 9.2/9.8 MB 3.5 MB/s eta 0:00:01\n",
      "   ---------------------------------------- 9.8/9.8 MB 3.5 MB/s eta 0:00:00\n",
      "Downloading patsy-0.5.6-py2.py3-none-any.whl (233 kB)\n",
      "Downloading scipy-1.14.1-cp312-cp312-win_amd64.whl (44.5 MB)\n",
      "   ---------------------------------------- 0.0/44.5 MB ? eta -:--:--\n",
      "    --------------------------------------- 1.0/44.5 MB 6.3 MB/s eta 0:00:07\n",
      "   -- ------------------------------------- 2.4/44.5 MB 5.6 MB/s eta 0:00:08\n",
      "   -- ------------------------------------- 3.1/44.5 MB 5.8 MB/s eta 0:00:08\n",
      "   ---- ----------------------------------- 4.5/44.5 MB 5.3 MB/s eta 0:00:08\n",
      "   ----- ---------------------------------- 5.8/44.5 MB 5.5 MB/s eta 0:00:08\n",
      "   ------ --------------------------------- 7.1/44.5 MB 5.7 MB/s eta 0:00:07\n",
      "   ------- -------------------------------- 8.4/44.5 MB 5.8 MB/s eta 0:00:07\n",
      "   -------- ------------------------------- 10.0/44.5 MB 5.9 MB/s eta 0:00:06\n",
      "   ---------- ----------------------------- 11.3/44.5 MB 6.0 MB/s eta 0:00:06\n",
      "   ----------- ---------------------------- 12.6/44.5 MB 6.0 MB/s eta 0:00:06\n",
      "   ------------ --------------------------- 13.9/44.5 MB 6.1 MB/s eta 0:00:06\n",
      "   ------------- -------------------------- 15.2/44.5 MB 6.0 MB/s eta 0:00:05\n",
      "   -------------- ------------------------- 16.5/44.5 MB 6.0 MB/s eta 0:00:05\n",
      "   ---------------- ----------------------- 17.8/44.5 MB 6.1 MB/s eta 0:00:05\n",
      "   ----------------- ---------------------- 19.4/44.5 MB 6.1 MB/s eta 0:00:05\n",
      "   ------------------ --------------------- 20.7/44.5 MB 6.1 MB/s eta 0:00:04\n",
      "   ------------------- -------------------- 22.0/44.5 MB 6.1 MB/s eta 0:00:04\n",
      "   -------------------- ------------------- 23.3/44.5 MB 6.1 MB/s eta 0:00:04\n",
      "   --------------------- ------------------ 23.9/44.5 MB 6.1 MB/s eta 0:00:04\n",
      "   ----------------------- ---------------- 26.0/44.5 MB 6.1 MB/s eta 0:00:04\n",
      "   ------------------------ --------------- 27.3/44.5 MB 6.1 MB/s eta 0:00:03\n",
      "   ------------------------- -------------- 28.6/44.5 MB 6.1 MB/s eta 0:00:03\n",
      "   --------------------------- ------------ 30.1/44.5 MB 6.1 MB/s eta 0:00:03\n",
      "   ---------------------------- ----------- 31.5/44.5 MB 6.1 MB/s eta 0:00:03\n",
      "   ----------------------------- ---------- 32.8/44.5 MB 6.2 MB/s eta 0:00:02\n",
      "   ------------------------------ --------- 34.1/44.5 MB 6.2 MB/s eta 0:00:02\n",
      "   ------------------------------- -------- 35.4/44.5 MB 6.2 MB/s eta 0:00:02\n",
      "   --------------------------------- ------ 37.0/44.5 MB 6.2 MB/s eta 0:00:02\n",
      "   ---------------------------------- ----- 38.3/44.5 MB 6.2 MB/s eta 0:00:02\n",
      "   ----------------------------------- ---- 39.6/44.5 MB 6.2 MB/s eta 0:00:01\n",
      "   ------------------------------------ --- 40.9/44.5 MB 6.2 MB/s eta 0:00:01\n",
      "   ------------------------------------- -- 42.2/44.5 MB 6.2 MB/s eta 0:00:01\n",
      "   ---------------------------------------  43.8/44.5 MB 6.2 MB/s eta 0:00:01\n",
      "   ---------------------------------------- 44.5/44.5 MB 6.2 MB/s eta 0:00:00\n",
      "Installing collected packages: scipy, patsy, statsmodels\n",
      "Successfully installed patsy-0.5.6 scipy-1.14.1 statsmodels-0.14.4\n",
      "Note: you may need to restart the kernel to use updated packages.\n"
     ]
    }
   ],
   "source": [
    "pip install pandas statsmodels matplotlib\n"
   ]
  },
  {
   "cell_type": "code",
   "execution_count": null,
   "metadata": {},
   "outputs": [],
   "source": [
    "import pandas as pd\n",
    "\n",
    "# Load the Excel file\n",
    "file_path = 'test_data.xlsx'\n",
    "df = pd.read_excel(file_path, sheet_name='test_data')\n",
    "\n",
    "# Set 'Date Time' as the index and convert to datetime format\n",
    "df['Date Time'] = pd.to_datetime(df['Date Time'])\n",
    "df.set_index('Date Time', inplace=True)\n",
    "\n",
    "# Select the parameters you want to forecast\n",
    "parameters = ['HAone', 'HAtwo', 'HS', 'HL', 'HD']\n"
   ]
  }
 ],
 "metadata": {
  "kernelspec": {
   "display_name": "Python 3",
   "language": "python",
   "name": "python3"
  },
  "language_info": {
   "codemirror_mode": {
    "name": "ipython",
    "version": 3
   },
   "file_extension": ".py",
   "mimetype": "text/x-python",
   "name": "python",
   "nbconvert_exporter": "python",
   "pygments_lexer": "ipython3",
   "version": "3.12.4"
  }
 },
 "nbformat": 4,
 "nbformat_minor": 2
}
